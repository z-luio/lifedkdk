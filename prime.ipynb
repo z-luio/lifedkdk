{
 "cells": [
  {
   "cell_type": "code",
   "execution_count": 2,
   "metadata": {},
   "outputs": [],
   "source": [
    "import matplotlib.pyplot as plt\n",
    "import numpy as np\n",
    "import matplotlib as mpl"
   ]
  },
  {
   "cell_type": "code",
   "execution_count": null,
   "metadata": {},
   "outputs": [],
   "source": [
    "n = int(input(\"Enter geater  than 3 number : \"))\n",
    "print(n)\n",
    "print(type(n))\n",
    "\n",
    "def Prime(n):\n",
    "    counter = 3\n",
    "    prime = [2,3]\n",
    "    if n % 2 == 0 :\n",
    "        n -= 1\n",
    "    print(n)\n",
    "    while counter < n :\n",
    "        counter += 2\n",
    "        print(counter)\n",
    "        c = counter % np.array(prime)\n",
    "        print(c)\n",
    "        print(type(c))\n",
    "        if False == (0 in c) :\n",
    "            prime.append(counter)\n",
    "    print(len(prime))\n",
    "    return prime\n",
    "x = Prime(n)\n",
    "x\n"
   ]
  }
 ],
 "metadata": {
  "kernelspec": {
   "display_name": "Python 3.10.4 64-bit",
   "language": "python",
   "name": "python3"
  },
  "language_info": {
   "codemirror_mode": {
    "name": "ipython",
    "version": 3
   },
   "file_extension": ".py",
   "mimetype": "text/x-python",
   "name": "python",
   "nbconvert_exporter": "python",
   "pygments_lexer": "ipython3",
   "version": "3.10.4"
  },
  "orig_nbformat": 4,
  "vscode": {
   "interpreter": {
    "hash": "3ad933181bd8a04b432d3370b9dc3b0662ad032c4dfaa4e4f1596c548f763858"
   }
  }
 },
 "nbformat": 4,
 "nbformat_minor": 2
}
